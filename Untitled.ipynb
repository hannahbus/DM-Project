{
 "cells": [
  {
   "cell_type": "markdown",
   "metadata": {},
   "source": [
    "<script type=\"text/x-mathjax-config\">MathJax.Hub.Config({tex2jax: {inlineMath:[['$','$']]}});</script>\n",
    "<script src='https://cdnjs.cloudflare.com/ajax/libs/mathjax/2.7.5/latest.js?config=default' async></script>"
   ]
  },
  {
   "cell_type": "markdown",
   "metadata": {},
   "source": [
    "# Deterministic Models and Optimization \n",
    "\n",
    "# Marc Noy \n",
    "\n",
    "## 23.11.18 \n",
    "___"
   ]
  },
  {
   "cell_type": "markdown",
   "metadata": {},
   "source": [
    "# Problem 1\n",
    "\n",
    "The edit distance is a well known problem that computes the similarity of two strings by counting the minimum \n",
    "number of operations required to transform one string into the other one. The operations available are:\n",
    "\t1.\tInsert a character\n",
    "\t2.\tDelete an existing character\n",
    "\t3.\tSubstitute a character by another\n",
    "There are many applications, including automatic spelling correction in natural language processing or the comparison of DNA in bioinformatics. \n",
    "\n",
    "Here we are presented with a problem of assessing the minimum operations between two sets of two text strings:\n",
    "\t1.\tDNA where \n",
    "\ta)\tX = ACTACTAGATTACTTACGGATCAGGTACTTTAGAGGCTTGCAACCAY\n",
    "\tb)\tY = TACTAGCTTACTTACCCATCAGGTTTTAGAGATGGCAACCA\n",
    "\t2.\tProteins where\n",
    "\ta)\tX =  AASRPRSGVPAQSDSDPCQNLAATPIPSRPPSSQSCQKCRADARQGRWGPY\n",
    "\tb)\tY =  SGAPGQRGEPGPQGHAGAPGPPGPPGSDG\n",
    "\t\n",
    "To solve this problem we utilize Dynamic Programming. The idea of Dynamic Programming is to solve a problem by solving for it’s subproblems and remembering the results. The problem here being to find the minimum number of operations to strings X and Y equal the subproblems here is to make the prefixes of X and Y equal.\n",
    "The program creates a table where the two strings are compared prefix by prefix where all three operations (insert, delete and substitude) are available. Here below each operation comes with the cost of 1."
   ]
  },
  {
   "cell_type": "code",
   "execution_count": 267,
   "metadata": {},
   "outputs": [],
   "source": [
    "# Import numpy package to create an array.\n",
    "import numpy as np \n",
    "\n",
    "#Define a function compare, which gives for a given cell D[m,n] of the matrix D, where m denotes the row index \n",
    "#and n the column index, the optimal prior cell, that can lead the algorithm to D[m,n] by either deletion, \n",
    "#insertion, substitution or no manipulations. Optimality is defined in terms of minimal value of the available prior \n",
    "#cell (costs). \n",
    "\n",
    "def compare(D, m, n): \n",
    "    if D[m - 1, n -1] == D[m,n]: \n",
    "        return \"-\", m-1, n-1 # nothing\n",
    "    elif D[m - 1, n - 1] + 1 == D[m,n]:\n",
    "        return \"S\", m-1, n-1 # substitution\n",
    "    elif D[m - 1, n] + 1 == D[m, n]\n",
    "        return \"D\", m-1, n # deletion\n",
    "    \n",
    "    if D[m - 1, n - 1] + 1 == < D[m - 1, n - 1] and D[m, n - 1] < D[m - 1, n]: #insertion\n",
    "        return \"I\", m, n-1\n",
    "    elif D[m - 1, n] < D[m - 1, n - 1] and D[m - 1, n] < D[m - 1, n - 1]: # deletion\n",
    "        return \"D\", m-1, n\n",
    "    elif D[m - 1, n - 1] <= D[m, n - 1] and D[m - 1, n - 1] <= D[m - 1, n]:\n",
    "        if D[m-1, n -1] == D[m,n]: \n",
    "            return \"-\", m-1, n-1 # nothing\n",
    "        else: \n",
    "            return \"S\", m-1, n-1# substitution\n",
    "\n",
    "#Define a function backtrace. The function recovers the optimal solution by iteratively applying the compare function. \n",
    "#The input is D[m,n], where m denotes the highest row index and n the highest column index. \n",
    "#The backtrace function stops when it reaches D[0,0] the starting point of the algorithm.\n",
    "\n",
    "def backtrace(D, m, n):\n",
    "    # Initialize starting points. \n",
    "    m = m \n",
    "    n = n\n",
    "    changes = [] # Initialize an empty vector to store the backtrace. \n",
    "    #Iteratively apply the compare function to reach D[0,0], the starting point of the algorithm. \n",
    "    while m and n > 0: \n",
    "        changes.append(compare(D, m, n)[0]) \n",
    "        m = compare(D, m, n)[1] #update row location \n",
    "        n = compare(D, m, n)[2] #update column location\n",
    "    if m > 0: \n",
    "        changes.append(\"D \"*m) #to reach 0,0 have to delete m times\n",
    "    if n > 0: \n",
    "        changes.append(\"I \"*n) #to reach 0,0 have to insert m times\n",
    "    return changes \n",
    "\n",
    "#Define a function edit_simple, which computes the edit distance, with costs of 1 for insertion, deletion, \n",
    "#and substitution. \n",
    "\n",
    "def edit_simple(str1, str2): \n",
    "    #Computing the length of the input strings. \n",
    "    m = len(str1)\n",
    "    n = len(str2)\n",
    "    #Initiliazing the matrix. \n",
    "    D = np.zeros(((m+1), (n+1)))  \n",
    "    # Filling the matrix from top to bottom, by looping over rows and columns. \n",
    "    for i in range(m+1): \n",
    "        for j in range(n+1): \n",
    "            if i == 0: \n",
    "                D[i, j] = j  # insertion  \n",
    "            elif j == 0: \n",
    "                D[i,j] = i    #deletion\n",
    "            elif str1[i-1] == str2[j-1]: \n",
    "                D[i, j] = D[i-1, j-1] \n",
    "            else: \n",
    "                D[i, j] = min(D[i, j-1]   + 1,    # insertion     \n",
    "                              D[i-1, j]   + 1,    # deletion\n",
    "                              D[i-1, j-1] +2)     # substitution\n",
    "    #Saving the bminimal costs in the variable cost.\n",
    "    cost = D[m,n] \n",
    "    # Initialize matrix dimensions to run the backtrace function.\n",
    "    m = np.size(D, 0) - 1\n",
    "    n = np.size(D, 1) - 1 \n",
    "    #Getting the backtrace. \n",
    "    changes = backtrace(D, m, n)     \n",
    "    return cost, changes\n",
    "\n",
    "#Define a function edit_weight, which computes the edit distance, with costs of 2 for insertion, deletion, \n",
    "#and 1 for substitution. \n",
    "\n",
    "def edit_weight(str1, str2): \n",
    "    #Computing the length of the input strings. \n",
    "    m = len(str1)\n",
    "    n = len(str2)\n",
    "    #Initiliazing the matrix. \n",
    "    D = np.zeros(((m+1), (n+1)))  \n",
    "    # Filling the list from top to bottom. \n",
    "    for i in range(m+1): \n",
    "        for j in range(n+1): \n",
    "            if i == 0: \n",
    "                D[i, j] = j*2  # insertion  \n",
    "            elif j == 0: \n",
    "                D[i,j] =  i*2   #deletion\n",
    "            elif str1[i-1] == str2[j-1]: \n",
    "                D[i, j] = D[i-1, j-1] \n",
    "            else: \n",
    "                D[i, j] = min(D[i, j-1]   + 2,    # insertion     \n",
    "                              D[i-1, j]   + 2,    # deletion\n",
    "                              D[i-1, j-1] + 1)    # substitution\n",
    "    #Saving the minimal costs in the variable cost.\n",
    "    cost = D[m,n] \n",
    "    # Initialize matrix dimensions to run the backtrace function. \n",
    "    m = np.size(D, 0) - 1\n",
    "    n = np.size(D, 1) - 1 \n",
    "    # Getting the backtrace.\n",
    "    changes = backtrace(D, m, n)     \n",
    "    return cost, changes"
   ]
  },
  {
   "cell_type": "code",
   "execution_count": 277,
   "metadata": {
    "scrolled": true
   },
   "outputs": [],
   "source": [
    "def edit_simple(str1, str2): \n",
    "    #Computing the length of the input strings. \n",
    "    m = len(str1)\n",
    "    n = len(str2)\n",
    "    #Initiliazing the matrix. \n",
    "    D = np.zeros(((m+1), (n+1)))  \n",
    "    # Filling the matrix from top to bottom, by looping over rows and columns. \n",
    "    for i in range(m+1): \n",
    "        for j in range(n+1): \n",
    "            if i == 0: \n",
    "                D[i, j] = j  # insertion  \n",
    "            elif j == 0: \n",
    "                D[i,j] = i    #deletion\n",
    "            elif str1[i-1] == str2[j-1]: \n",
    "                D[i, j] = D[i-1, j-1] \n",
    "            else: \n",
    "                D[i, j] = min(D[i, j-1]   + 1,    # insertion     \n",
    "                              D[i-1, j]   + 1,    # deletion\n",
    "                              D[i-1, j-1] + 1)     # substitution\n",
    "    #Saving the minimal costs in the variable cost.\n",
    "    cost = D[m,n] \n",
    "    # Initialize matrix dimensions to run the backtrace function.\n",
    "    m = np.size(D, 0) - 1\n",
    "    n = np.size(D, 1) - 1 \n",
    "    #Getting the backtrace. \n",
    "    changes = backtrace(D, m, n)     \n",
    "    return D"
   ]
  },
  {
   "cell_type": "code",
   "execution_count": 276,
   "metadata": {},
   "outputs": [
    {
     "data": {
      "text/plain": [
       "['-', '-', '-', '-', 'S', 'S', 'S', 'S', 'S']"
      ]
     },
     "execution_count": 276,
     "metadata": {},
     "output_type": "execute_result"
    }
   ],
   "source": [
    "edit_simple(\"intention\", \"execution\")"
   ]
  },
  {
   "cell_type": "code",
   "execution_count": 278,
   "metadata": {},
   "outputs": [
    {
     "data": {
      "text/plain": [
       "array([[0., 1., 2., 3., 4., 5., 6., 7., 8., 9.],\n",
       "       [1., 1., 2., 3., 4., 5., 6., 6., 7., 8.],\n",
       "       [2., 2., 2., 3., 4., 5., 6., 7., 7., 7.],\n",
       "       [3., 3., 3., 3., 4., 5., 5., 6., 7., 8.],\n",
       "       [4., 3., 4., 3., 4., 5., 6., 6., 7., 8.],\n",
       "       [5., 4., 4., 4., 4., 5., 6., 7., 7., 7.],\n",
       "       [6., 5., 5., 5., 5., 5., 5., 6., 7., 8.],\n",
       "       [7., 6., 6., 6., 6., 6., 6., 5., 6., 7.],\n",
       "       [8., 7., 7., 7., 7., 7., 7., 6., 5., 6.],\n",
       "       [9., 8., 8., 8., 8., 8., 8., 7., 6., 5.]])"
      ]
     },
     "execution_count": 278,
     "metadata": {},
     "output_type": "execute_result"
    }
   ],
   "source": [
    "edit_simple(\"intention\", \"execution\")"
   ]
  },
  {
   "cell_type": "code",
   "execution_count": 272,
   "metadata": {
    "scrolled": true
   },
   "outputs": [
    {
     "data": {
      "text/plain": [
       "array([[ 0.,  1.,  2.,  3.,  4.,  5.,  6.,  7.,  8.,  9.],\n",
       "       [ 1.,  2.,  3.,  4.,  5.,  6.,  7.,  6.,  7.,  8.],\n",
       "       [ 2.,  3.,  4.,  5.,  6.,  7.,  8.,  7.,  8.,  7.],\n",
       "       [ 3.,  4.,  5.,  6.,  7.,  8.,  7.,  8.,  9.,  8.],\n",
       "       [ 4.,  3.,  4.,  5.,  6.,  7.,  8.,  9., 10.,  9.],\n",
       "       [ 5.,  4.,  5.,  6.,  7.,  8.,  9., 10., 11., 10.],\n",
       "       [ 6.,  5.,  6.,  7.,  8.,  9.,  8.,  9., 10., 11.],\n",
       "       [ 7.,  6.,  7.,  8.,  9., 10.,  9.,  8.,  9., 10.],\n",
       "       [ 8.,  7.,  8.,  9., 10., 11., 10.,  9.,  8.,  9.],\n",
       "       [ 9.,  8.,  9., 10., 11., 12., 11., 10.,  9.,  8.]])"
      ]
     },
     "execution_count": 272,
     "metadata": {},
     "output_type": "execute_result"
    }
   ],
   "source": [
    "edit_simple(\"intention\", \"execution\")"
   ]
  },
  {
   "cell_type": "code",
   "execution_count": 274,
   "metadata": {},
   "outputs": [
    {
     "data": {
      "text/plain": [
       "['-', '-', '-', '-', 'S', 'I', 'I', 'I', '-', 'D D D ']"
      ]
     },
     "execution_count": 274,
     "metadata": {},
     "output_type": "execute_result"
    }
   ],
   "source": [
    "edit_simple(\"intention\",\"execution\")"
   ]
  },
  {
   "cell_type": "code",
   "execution_count": null,
   "metadata": {},
   "outputs": [],
   "source": []
  },
  {
   "cell_type": "code",
   "execution_count": 258,
   "metadata": {
    "scrolled": true
   },
   "outputs": [
    {
     "name": "stdout",
     "output_type": "stream",
     "text": [
      "10.0\n",
      "15.0\n"
     ]
    }
   ],
   "source": [
    "X = \"ACTACTAGATTACTTACGGATCAGGTACTTTAGAGGCTTGCAACCA\"\n",
    "Y = \"TACTAGCTTACTTACCCATCAGGTTTTAGAGATGGCAACCA\"\n",
    "print(edit_simple(X,Y)[0])\n",
    "print(edit_weight(X,Y)[0])"
   ]
  },
  {
   "cell_type": "code",
   "execution_count": 259,
   "metadata": {},
   "outputs": [
    {
     "name": "stdout",
     "output_type": "stream",
     "text": [
      "['-', '-', '-', '-', '-', '-', '-', 'S', '-', 'S', 'D', 'D', 'D', 'D', 'D', 'D', 'D', 'D', 'D', 'D', 'D', 'D', 'D', 'D', 'D', 'D', 'S', 'S', 'D', 'D', 'D', 'D', 'D', 'D', 'D', 'D', 'S', 'D', 'D', 'D', 'D', 'D', 'D', 'D D D ']\n",
      "['-', '-', '-', '-', '-', '-', '-', 'S', 'D', 'D', 'D', 'D', 'D', 'D', 'D', 'D', 'D', 'D', 'D', 'D', 'D', 'D', 'D', 'D', 'D', 'D', 'D', 'D', 'D', 'D', 'D', 'D', 'D', 'D', 'D', 'D', 'D', 'D', 'D', 'D', 'D', 'D', 'D', 'D', 'D', 'D ']\n"
     ]
    }
   ],
   "source": [
    "print(edit_simple(X,Y)[1])\n",
    "print(edit_weight(X,Y)[1])"
   ]
  },
  {
   "cell_type": "code",
   "execution_count": 253,
   "metadata": {
    "scrolled": false
   },
   "outputs": [
    {
     "name": "stdout",
     "output_type": "stream",
     "text": [
      "37.0\n",
      "58.0\n"
     ]
    }
   ],
   "source": [
    "X = \"AASRPRSGVPAQSDSDPCQNLAATPIPSRPPSSQSCQKCRADARQGRWGP\"\n",
    "Y = \"SGAPGQRGEPGPQGHAGAPGPPGPPGSDG\"\n",
    "print(edit_simple(X,Y)[0])\n",
    "print(edit_weight(X,Y)[0])"
   ]
  },
  {
   "cell_type": "code",
   "execution_count": 257,
   "metadata": {},
   "outputs": [
    {
     "name": "stdout",
     "output_type": "stream",
     "text": [
      "['D', 'D', 'D', 'D', 'D', 'D', 'D', 'D', 'D', 'D', 'D', 'D', 'D', 'D', 'D', 'D', 'D', 'S', 'D', 'D', 'S', 'S', 'D', 'S', 'D', 'S', 'S', 'D', 'S', 'S', 'S', 'S', 'S', '-', 'S', 'S', 'S', 'D', 'S', 'D', 'S', 'D', 'D', 'D', 'D', 'D', 'D', 'D D D ']\n",
      "['D', 'D', 'D', 'D', 'D', 'D', 'D', 'D', 'D', 'D', 'D', 'D', 'D', 'D', 'D', 'D', 'D', 'D', 'D', 'D', 'D', 'D', 'D', 'D', 'D', 'D', 'D', 'D', 'D', 'D', 'D', 'S', 'S', 'D', 'D', 'D', 'D', 'D', 'D', 'D', 'D', 'D', 'D', 'D', 'D', 'D', 'D', 'D', 'D', 'D ']\n"
     ]
    }
   ],
   "source": [
    "print(edit_simple(X,Y)[1])\n",
    "print(edit_weight(X,Y)[1])"
   ]
  },
  {
   "cell_type": "markdown",
   "metadata": {},
   "source": [
    "# Exercise 2 \n",
    "____"
   ]
  },
  {
   "cell_type": "markdown",
   "metadata": {},
   "source": [
    "# Proof of Correctness"
   ]
  },
  {
   "cell_type": "markdown",
   "metadata": {},
   "source": [
    "Denote by $T$ the Huffman tree, $A$ the set of distinct characters with frequency count $f(x), \\forall x \\in A$, and $C(T)$ the costs of the encoding as implied by $T$. \n",
    "\n",
    "First, an encoding of x is a prefix of an encoding of y if and only if the path of x is a prefix of the path of y. A path is uniquely associated with one character. Therefore, the Huffman tree produces valid prefix codes. \n",
    "\n",
    "Second, to prove that the resulting coding produces minimal costs, as defined in the exercise, we first derive 3 Lemmas. \n",
    "\n",
    "<div class=\"alert alert-block alert-warning\">\n",
    "<b>Lemma 1 </b> \n",
    "    \n",
    "Let $a,b$ be two leaves of the Huffman tree $T$. Now, define $T'$, as $T$ where $a,b$ have been interchanged. Then \n",
    "\n",
    "$C(T') - C(T) = (f(a) - f(b)) (depth(b,T)) - depth(a,T))$\n",
    "</div>\n",
    "\n",
    " \n",
    "\n",
    "__Proof__ \n",
    "\n",
    "$C(T) = \\sum_{x \\in A}f(x)*depth(x,T)$ and \n",
    "$C(T') = \\sum_{x \\in A}f(x)*depth(x,T')$. \n",
    "\n",
    "In particular: \n",
    "$C(T') = \\sum_{x \\in A \\not \\{a,b\\}}f(x)*depth(x,T') + f(a)*depth(b,T) + f(b) * depth(a,T)$. \n",
    "\n",
    "It follows that: \n",
    "$C(T') - C(T) = f(a) * (depth(b,T) - depth(a,T) + f(b)*(depth(a,T) - depth(b,T) = (f(a) - f(b))(depth(b,T) - depth(a,T))$ \n",
    "\n",
    "<div class=\"alert alert-block alert-warning\">\n",
    "<b>Lemma 2 </b> \n",
    "\n",
    "$\\exists T^*$ such that the characters $a, b \\in A$ with lowest frequencies are siblings.\n",
    "</div> \n",
    "\n",
    "__Proof__ \n",
    "\n",
    "Let $T^*$ be an optimal tree and assume without loss of generality that $depth(a,T) \\geq depth(b,T)$. Suppose Lemma 2 is not true. Then:\n",
    "\n",
    "* _Case 1_ $a$ has a sibling $x \\neq b$. However, $T^*$ cannot produce optimal costs then. By Lemma 1 $C(T^*)$ can be reduced by interchanging $x$ and $z$. \n",
    "\n",
    "* _Case 2_ $a$ is the only child. Remove $a$ and assign it to the old parent. The new tree produces lower costs, again creating a contradiction. \n",
    "\n",
    "* _Case 3_ Suppose there exist a node depther with $x$. Then by Lemma 1, by changing $x$ and $a$, we can create a new tree $T'$, with lower costs. \n",
    "\n",
    "<div class=\"alert alert-block alert-warning\">\n",
    "<b>Lemma 3 </b>  \n",
    " \n",
    " $T(n-1) = T(n) + f(a) + f(b)$\n",
    "</div> \n",
    "\n",
    "__Proof__ \n",
    "\n",
    "$C(T) = \\sum_{x \\in A} f(x)*depth(x, T(n)) $\n",
    "\n",
    "\n",
    "$\\sum_{x \\in \\not \\{a,b\\}} f(x) * depth(x, T(n-1)) + f(a) * depth(a, T(n)) + f(b) * depth(a, T(n)) $\n",
    "\n",
    "$= \\sum_{x \\in \\not \\{a,b\\}} f(x) * depth(x, T(n-1)) + (f(a) + f(b)) * depth(a, T(n-1) + f(a) + f(b) = C(T) + f(a) + f(b)$\n",
    "\n",
    "<div class=\"alert alert-block alert-info\">\n",
    "<b>Theorem </b> \n",
    "    \n",
    "The Huffman algorithm creates an optimal tree $T^*$ for $A$ and $f$.\n",
    "</div>\n",
    "\n",
    "\n",
    "__Proof__ \n",
    "\n",
    "By induction. The theorem holds trivially for $n = 1$. The algorithm produces a tree with only one vertex, creating minimal costs. \n",
    "\n",
    "Induction stage. Suppose the statement is true for $n - 1$. We show that it then also follows for $n$. Denote by $T'$ the tree created at step $n - 1$, which is optimal. Now suppose that for $n$ the tree, generated by Huffman's algorithm, $T$ is no longer optimal, that is: $\\exists Z \\neq T$ such that $C(Z) < C(T)$. By Lemma 2, remove $a,b$ to get $T'$ and do the same for $Z$ to get $Z'$. This implies that $T' > Z'$, contradicting the induction assumption. The Huffman tree and therefore Huffman's algorithm produces minimal-cost prefix encoding."
   ]
  },
  {
   "cell_type": "markdown",
   "metadata": {},
   "source": [
    "# References \n",
    "\n",
    " Huffman, D. (1952). \"A Method for the Construction of Minimum-Redundancy Codes\" (PDF). Proceedings of the IRE. 40 (9): 1098–1101. doi:10.1109/JRPROC.1952.273898. "
   ]
  }
 ],
 "metadata": {
  "kernelspec": {
   "display_name": "Python 2",
   "language": "python",
   "name": "python2"
  },
  "language_info": {
   "codemirror_mode": {
    "name": "ipython",
    "version": 2
   },
   "file_extension": ".py",
   "mimetype": "text/x-python",
   "name": "python",
   "nbconvert_exporter": "python",
   "pygments_lexer": "ipython2",
   "version": "2.7.15"
  }
 },
 "nbformat": 4,
 "nbformat_minor": 2
}
