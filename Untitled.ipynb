{
 "cells": [
  {
   "cell_type": "markdown",
   "metadata": {},
   "source": [
    "# TO DO \n",
    "\n",
    "* Motivation, Introdcution of the algorithm\n",
    "* Dynamic etc. programming\n",
    "\n",
    "* Running Time\n",
    "* Presentation of results "
   ]
  },
  {
   "cell_type": "markdown",
   "metadata": {},
   "source": [
    "# Edit Distance \n",
    "___ "
   ]
  },
  {
   "cell_type": "markdown",
   "metadata": {},
   "source": [
    "<script type=\"text/x-mathjax-config\">MathJax.Hub.Config({tex2jax: {inlineMath:[['$','$']]}});</script>\n",
    "<script src='https://cdnjs.cloudflare.com/ajax/libs/mathjax/2.7.5/latest.js?config=default' async></script>"
   ]
  },
  {
   "cell_type": "code",
   "execution_count": 74,
   "metadata": {},
   "outputs": [],
   "source": [
    "def edit_simple(str1, str2): \n",
    "    \"\"\"This function computes the edit distance between two strings\n",
    "    with costs 1 for insertion, deletion, and substitution\"\"\"\n",
    "    #Computing the length of the input strings. \n",
    "    m = len(str1)\n",
    "    n = len(str2)\n",
    "    D = [[0 for x in range(n+1)] for x in range(m+1)] \n",
    "    A = [[0 for x in range(n+1)] for x in range(m+1)] \n",
    "    # Filling the list from top to bottom. \n",
    "    for i in range(m+1): \n",
    "        for j in range(n+1): \n",
    "            if i == 0: \n",
    "                D[i][j] = j  # insertion  \n",
    "            elif j == 0: \n",
    "                D[i][j] = i    #deletion\n",
    "            elif str1[i-1] == str2[j-1]: \n",
    "                D[i][j] = D[i-1][j-1] \n",
    "            else: \n",
    "                D[i][j] = min(D[i][j-1] + 1,    # insertion     \n",
    "                              D[i-1][j] + 1,    # deletion\n",
    "                              D[i-1][j-1]+1)    # substitution\n",
    "  \n",
    "    return D[m][n]"
   ]
  },
  {
   "cell_type": "code",
   "execution_count": 71,
   "metadata": {},
   "outputs": [],
   "source": [
    "def edit_weight(str1, str2): \n",
    "    \"\"\"This function computes the edit distance between two strings, \n",
    "    with costs 2 for insertion and deletion and cost 1 for substitution\"\"\"\n",
    "    #Computing the length of the strings\n",
    "    m = len(str1)\n",
    "    n = len(str2)\n",
    "    D = [[0 for x in range(n+1)] for x in range(m+1)] \n",
    "    # Filling the list from top to bottom \n",
    "    for i in range(m+1): \n",
    "        for j in range(n+1): \n",
    "            if i == 0: \n",
    "                D[i][j] = j*2    \n",
    "            elif j == 0: \n",
    "                D[i][j] = i *2   \n",
    "            elif str1[i-1] == str2[j-1]: \n",
    "                D[i][j] = D[i-1][j-1] \n",
    "            else: \n",
    "                D[i][j] =  min(D[i][j-1]   + 2, # insertion b       \n",
    "                               D[i-1][j]   + 2, # deletion\n",
    "                               D[i-1][j-1] + 1) # substitution     \n",
    "  \n",
    "    return D[m][n] "
   ]
  },
  {
   "cell_type": "markdown",
   "metadata": {},
   "source": [
    "# Exercise 1 \n",
    "## a.)"
   ]
  },
  {
   "cell_type": "code",
   "execution_count": 72,
   "metadata": {},
   "outputs": [
    {
     "name": "stdout",
     "output_type": "stream",
     "text": [
      "The edit distance is 10 .\n",
      "The edit distance with weights is 15 .\n"
     ]
    }
   ],
   "source": [
    "X = \"ACTACTAGATTACTTACGGATCAGGTACTTTAGAGGCTTGCAACCA\"\n",
    "Y = \"TACTAGCTTACTTACCCATCAGGTTTTAGAGATGGCAACCA\"\n",
    "print \"The edit distance is\", edit_simple(X,Y), \".\"\n",
    "print \"The edit distance with weights is\",edit_weight(X,Y), \".\""
   ]
  },
  {
   "cell_type": "markdown",
   "metadata": {},
   "source": [
    "## b.)"
   ]
  },
  {
   "cell_type": "code",
   "execution_count": 73,
   "metadata": {
    "scrolled": true
   },
   "outputs": [
    {
     "name": "stdout",
     "output_type": "stream",
     "text": [
      "The edit distance is 37 .\n",
      "The edit distance with weights is 58 .\n"
     ]
    }
   ],
   "source": [
    "X = \"AASRPRSGVPAQSDSDPCQNLAATPIPSRPPSSQSCQKCRADARQGRWGP\"\n",
    "Y = \"SGAPGQRGEPGPQGHAGAPGPPGPPGSDG\"\n",
    "print \"The edit distance is\", edit_simple(X,Y), \".\"\n",
    "print \"The edit distance with weights is\",edit_weight(X,Y), \".\""
   ]
  },
  {
   "cell_type": "markdown",
   "metadata": {},
   "source": [
    "# Exercise 2 \n",
    "____"
   ]
  },
  {
   "cell_type": "markdown",
   "metadata": {},
   "source": [
    "# Introduction\n",
    "\n",
    "\"In computer science and information theory, a Huffman code is a particular type of optimal prefix code that is commonly used for lossless data compression. The process of finding and/or using such a code proceeds by means of Huffman coding, an algorithm developed by David A. Huffman while he was a Sc.D. student at MIT, and published in the 1952 paper \"A Method for the Construction of Minimum-Redundancy Codes\".[1]\n",
    "\n",
    "The output from Huffman's algorithm can be viewed as a variable-length code table for encoding a source symbol (such as a character in a file). The algorithm derives this table from the estimated probability or frequency of occurrence (weight) for each possible value of the source symbol. As in other entropy encoding methods, more common symbols are generally represented using fewer bits than less common symbols. Huffman's method can be efficiently implemented, finding a code in time linear to the number of input weights if these weights are sorted. \""
   ]
  },
  {
   "cell_type": "markdown",
   "metadata": {},
   "source": [
    "# Pseudo Code for Huffman's tree\n",
    "\n",
    "     MergeSort(A)\n",
    "     Huffman(A) \n",
    "     If |A| = 1 return a single vertex\n",
    "     Endif \n",
    "     Else \n",
    "     Pick a, b with the lowest f \n",
    "     A' = A\\{a,b} + z  \n",
    "     f'(x) = f(x) for all x in A' except for f(z), which is defined as f(z) = f(a) + f(b) \n",
    "     T' = Huffman(A') \n",
    "     T = T' + add a and b as children nodes of z "
   ]
  },
  {
   "cell_type": "markdown",
   "metadata": {},
   "source": [
    "# Complexity of the algorithm\n",
    "\n",
    "This algorithm runs in O(n log n)."
   ]
  },
  {
   "cell_type": "markdown",
   "metadata": {},
   "source": [
    "# Proof of Correctness"
   ]
  },
  {
   "cell_type": "markdown",
   "metadata": {},
   "source": [
    "Denote by $T$ the Huffman tree, $A$ the set of distinct characters with frequency count $f(x), \\forall x \\in A$, and $C(T)$ the costs of the encoding as implied by $T$. \n",
    "\n",
    "First, an encoding of x is a prefix of an encoding of y if and only if the path of x is a prefix of the path of y. A path is uniquely associated with one character. Therefore, the Huffman tree produces prefix codes. \n",
    "\n",
    "Second, to prove that the resulting coding produces minimal costs, as defined in the exercise, we first derive 3 Lemmas. \n",
    "\n",
    "<div class=\"alert alert-block alert-warning\">\n",
    "<b>Lemma 1 </b> \n",
    "    \n",
    "Let $a,b$ be two leaves of the Huffman tree $T$. Now, define $T'$, which is derived from $T$ by changing $a,b$. Then \n",
    "\n",
    "$C(T') - C(T) = (f(a) - f(b)) (depth(b,T)) - depth(a,T))$\n",
    "</div>\n",
    "\n",
    "__Proof__ \n",
    "\n",
    "$C(T) = \\sum_{x \\in A}f(x)*depth(x,T)$ and \n",
    "$C(T') = \\sum_{x \\in A}f(x)*depth(x,T')$. \n",
    "\n",
    "In particular: \n",
    "$C(T') = \\sum_{x \\in A \\not \\{a,b\\}}f(x)*depth(x,T') + f(a)*depth(b,T) + f(b) * depth(a,T)$. \n",
    "\n",
    "It follows that: \n",
    "$C(T') - C(T) = f(a) * (depth(b,T) - depth(a,T) + f(b)*(depth(a,T) - depth(b,T) = (f(a) - f(b))(depth(b,T) - depth(a,T))$ \n",
    "\n",
    "<div class=\"alert alert-block alert-warning\">\n",
    "<b>Lemma 2 </b> \n",
    "\n",
    "$\\exists T^*$ such that the characters $a, b \\in A$ with lowest frequencies are siblings.\n",
    "</div> \n",
    "\n",
    "__Proof__ \n",
    "\n",
    "Let $T^*$ be an optimal tree and assume without loss of generality that $depth(a,T) \\geq depth(b,T)$. Suppose Lemma 2 is not true. Then:\n",
    "\n",
    "* _Case 1_ $a$ has a sibling $x \\neq b$. However, $T^*$ cannot produce optimal costs then. By Lemma 1 $C(T^*)$ can be reduced by interchanging $x$ and $z$. \n",
    "\n",
    "* _Case 2_ $a$ is the only child. Remove $a$ and assign it to the old parent. The new tree produces lower costs, again creating a contradiction. \n",
    "\n",
    "* _Case 3_ Suppose there exist a node depther with $x$. Then by Lemma 1, by changing $x$ and $a$, we can create a new tree $T'$, with lower costs. \n",
    "\n",
    "<div class=\"alert alert-block alert-warning\">\n",
    "<b>Lemma 3 </b>  \n",
    " \n",
    " $T(n-1) = T(n) + f(a) + f(b)$\n",
    "</div> \n",
    "\n",
    "__Proof__ \n",
    "\n",
    "$C(T) = \\sum_{x \\in A} f(x)*depth(x, T(n)) $\n",
    "\n",
    "\n",
    "$\\sum_{x \\in \\not \\{a,b\\}} f(x) * depth(x, T(n-1)) + f(a) * depth(a, T(n)) + f(b) * depth(a, T(n)) $\n",
    "\n",
    "$= \\sum_{x \\in \\not \\{a,b\\}} f(x) * depth(x, T(n-1)) + (f(a) + f(b)) * depth(a, T(n-1) + f(a) + f(b) = C(T) + f(a) + f(b)$\n",
    "\n",
    "<div class=\"alert alert-block alert-info\">\n",
    "<b>Theorem </b> \n",
    "    \n",
    "The Huffman Algorithm creates an optimal tree $T^*$ for $A$ and $f$.\n",
    "</div>\n",
    "\n",
    "\n",
    "__Proof__ \n",
    "\n",
    "By induction. The theorem holds trivially for $n = 1$. The algorithm produces a tree with only one vertex, creating minimal costs of 0. \n",
    "\n",
    "Induction stage. Suppose the statement is true for $n - 1$. We show that it then also follows for $n$. Denote by $T'$ the tree created for $n -1$, which is optimal. Now suppose that for $n$ the tree, generated by Huffman's algorithm, $T$ is no longer optimal, that is: $\\exists Z \\neq T$ such that $C(Z) < C(T)$. By Lemma 2, remove $a,b$ to get $T'$. Do the same for $Z$ to get $Z'$. This implies that $T' > Z'$, contradicting the induction assumption.  The Huffman tree and therefore Huffman's algorithm produces minimal-cost encoding."
   ]
  },
  {
   "cell_type": "markdown",
   "metadata": {},
   "source": [
    "# References \n",
    "\n",
    " Huffman, D. (1952). \"A Method for the Construction of Minimum-Redundancy Codes\" (PDF). Proceedings of the IRE. 40 (9): 1098–1101. doi:10.1109/JRPROC.1952.273898. "
   ]
  }
 ],
 "metadata": {
  "kernelspec": {
   "display_name": "Python 2",
   "language": "python",
   "name": "python2"
  },
  "language_info": {
   "codemirror_mode": {
    "name": "ipython",
    "version": 2
   },
   "file_extension": ".py",
   "mimetype": "text/x-python",
   "name": "python",
   "nbconvert_exporter": "python",
   "pygments_lexer": "ipython2",
   "version": "2.7.15"
  }
 },
 "nbformat": 4,
 "nbformat_minor": 2
}
