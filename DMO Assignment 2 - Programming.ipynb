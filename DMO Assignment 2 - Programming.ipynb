{
 "cells": [
  {
   "cell_type": "markdown",
   "metadata": {},
   "source": [
    "Hannah Busshoff, Snorri Petersen and Sebastian Wolf\n",
    "\n",
    "# Table of Content {-}\n",
    "\n",
    "1. Edit Distance \\newline\n",
    "    1.1 Discussion of the problem \\newline\n",
    "    1.2 Proposed algorithm \\newline\n",
    "    1.3 Proof of Correctness \n",
    "2. Huffman Codes \\newline\n",
    "    2.1 Discussion of the problem \\newline\n",
    "    2.2 Proposed algorithm \\newline\n",
    "    2.3 Proof of Correctness\n",
    "3. References"
   ]
  },
  {
   "attachments": {},
   "cell_type": "markdown",
   "metadata": {},
   "source": [
    "# Edit Distance\n",
    "\n",
    "## Discussion of the problem\n",
    "\n",
    "The edit distance is a measure for the  similarity of two strings. It counts the minimum number of operations required to transform one string into another. The operations considered for the edit distance are:\n",
    "\n",
    "1.\tInsert a character\n",
    "2.\tDelete an existing character\n",
    "3.\tSubstitute a character by another\n",
    "\n",
    "When the edit distance is measured using only these three operations it is also called a 'Levensthein distance'. The edit distance has many applications, including automatic spelling correction in natural language processing or the comparison of DNA in bioinformatics.  \n",
    "\n",
    "In this assignment we are presented with a problem of assessing the minimum operations between two sets of two text strings:\n",
    "\n",
    "1.\tDNA where \n",
    "    a)\tX = ACTACTAGATTACTTACGGATCAGGTACTTTAGAGGCTTGCAACCAY\n",
    "\tb)\tY = TACTAGCTTACTTACCCATCAGGTTTTAGAGATGGCAACCA\n",
    "2.\tProteins where\n",
    "\ta)\tX =  AASRPRSGVPAQSDSDPCQNLAATPIPSRPPSSQSCQKCRADARQGRWGPY\n",
    "\tb)\tY =  SGAPGQRGEPGPQGHAGAPGPPGPPGSDG\n",
    "    \n",
    "There are potentially many ways to transform one string into another, and trying out all possible combinations to find the lowest cost option would be prohibitively expensive. To solve the problem more efficiently, we therefore propose an algorithm based on the solution for the longest common subsequence that was covered in class. This algortihm falls under the dynamic programming paradigm.  \n",
    "\n",
    "The idea of Dynamic Programming is to solve a large problem that has too many potential combinations to solve greedily, by dividing it into subproblems. In contrast to divide and conquer algorithms, the subproblems in dynamic programming overlap; the solution of one subproblem depends on the solution of others.\n",
    "\n",
    "The subproblems in this case involves comparing substrings, rather than the whole string at once. The program creates a table where the two strings are compared prefix by prefix where all three operations (insert, delete and substitude) are available. Here below each operation comes with the cost of 1.\n"
   ]
  },
  {
   "cell_type": "markdown",
   "metadata": {},
   "source": [
    "## Proposed algorithm\n",
    "\n",
    "Define a function ***'compare'***, which gives for a given cell D[m,n] of the matrix D, where m denotes the row index and n the column index, the optimal prior cell that can lead the algorithm to D[m,n] by either deletion, insertion, substitution or no manipulations. Optimality is defined in terms of minimal value of the available prior cell. If there is a tie between prior cells, the algorithm always takes the diagonal."
   ]
  },
  {
   "cell_type": "code",
   "execution_count": 1,
   "metadata": {},
   "outputs": [],
   "source": [
    "# Import numpy package to create an array.\n",
    "import numpy as np\n",
    "\n",
    "def compare(D, m, n, cost1, cost2):\n",
    "    if (m == 0) and (n > 0):\n",
    "        return \"I\", max(m,0), max(n-1,0)\n",
    "    elif (n == 0) and (m > 0):\n",
    "        return \"D\", max(m-1,0), max(n,0)\n",
    "    elif (D[m - 1, n - 1] == D[m,n]) and (D[m - 1, n-1] <= min(D[m, n-1\n",
    "        ] + cost1, D[m-1, n] + cost1)):\n",
    "        return \"-\", max(m-1,0), max(n-1,0) # nothing\n",
    "    elif D[m - 1, n - 1] + cost2 <= min(D[m, n-1], D[m-1, n]) + cost1 :\n",
    "        return \"S\", max(m-1,0), max(n-1,0) #substitution\n",
    "    elif D[m-1,n]  < D[m,n-1]:\n",
    "        return \"D\", max(m-1,0), max(n,0) # deletion\n",
    "    elif D[m, n-1] < D[m, n-1]:\n",
    "        return \"I\", max(m,0), max(n-1,0) # insertion"
   ]
  },
  {
   "cell_type": "markdown",
   "metadata": {},
   "source": [
    "Define a function ***'backtrace'***. The function recovers the optimal solution by iteratively applying the compare function. The input is D[m,n], where m denotes the highest row index and n the highest column index. The backtrace function stops when it reaches D[0,0] the starting point of the algorithm."
   ]
  },
  {
   "cell_type": "code",
   "execution_count": 2,
   "metadata": {},
   "outputs": [],
   "source": [
    "def backtrace(D, m, n, cost1, cost2):\n",
    "    changes = [] # Initialize an empty vector to store the backtrace.\n",
    "    # Iteratively apply the compare function to reach D[0,0], \n",
    "    # the starting point of the algorithm.\n",
    "    while m > 0 or n > 0:\n",
    "        # Compute the optimal prior cell.\n",
    "        result = compare(D, m, n, cost1, cost2) \n",
    "        # Store the optimal move in the list changes and append it.\n",
    "        changes.append(result[0]) \n",
    "        m = result[1] # Update row location.\n",
    "        n = result[2] # Update column location.\n",
    "    return changes"
   ]
  },
  {
   "cell_type": "markdown",
   "metadata": {},
   "source": [
    "Define a function ***'edit_simple'***, which computes the edit distance, with costs of cost1 for insertion and deletion, and cost2 for substitution."
   ]
  },
  {
   "cell_type": "code",
   "execution_count": 3,
   "metadata": {},
   "outputs": [],
   "source": [
    "def edit_distance(str1, str2, cost1, cost2):\n",
    "    #Computing the length of the input strings.\n",
    "    m = len(str1)\n",
    "    n = len(str2)\n",
    "    #Initiliazing the matrix.\n",
    "    D = np.zeros(((m+1), (n+1)))\n",
    "    # Filling the matrix from top to bottom, by looping over rows and columns.\n",
    "    for i in range(m+1):\n",
    "        for j in range(n+1):\n",
    "            if i == 0:\n",
    "                D[i, j] = j*cost1  # insertion\n",
    "            elif j == 0:\n",
    "                D[i,j] = i*cost1    # deletion\n",
    "            elif str1[i-1] == str2[j-1]:\n",
    "                D[i, j] = D[i-1, j-1]\n",
    "            else:\n",
    "                D[i, j] = min(D[i, j-1]   + cost1,    # insertion\n",
    "                              D[i-1, j]   + cost1,    # deletion\n",
    "                              D[i-1, j-1] + cost2)     # substitution\n",
    "    #Saving the minimal costs in the variable cost.\n",
    "    cost = D[m,n]\n",
    "    # Initialize matrix dimensions to run the backtrace function.\n",
    "    m = np.size(D, 0) - 1\n",
    "    n = np.size(D, 1) - 1\n",
    "    #Getting the backtrace.\n",
    "    changes = backtrace(D, m, n, cost1, cost2)\n",
    "    return cost, changes"
   ]
  },
  {
   "cell_type": "markdown",
   "metadata": {},
   "source": [
    "Computing the edit distance and the backtrace if costs of substitution, insertion, and deletion equal 1."
   ]
  },
  {
   "cell_type": "code",
   "execution_count": 17,
   "metadata": {},
   "outputs": [
    {
     "name": "stdout",
     "output_type": "stream",
     "text": [
      "10.0\n",
      "['-', '-', '-', '-', '-', '-', '-', 'S', '-', 'S', '-', '-', '-', '-', '-', '-', '-', '-', '-', '-', '-', '-', 'S', '-', '-', 'S', '-', '-', '-', '-', '-', '-', '-', '-', 'S', '-', '-', '-', '-', '-', '-', 'D', 'D', 'D', 'D', 'D']\n"
     ]
    }
   ],
   "source": [
    "#Initializing the strings, which shall be analyzed.\n",
    "X = \"ACTACTAGATTACTTACGGATCAGGTACTTTAGAGGCTTGCAACCA\"\n",
    "Y = \"TACTAGCTTACTTACCCATCAGGTTTTAGAGATGGCAACCA\"\n",
    "\n",
    "print(edit_distance(X,Y,1,1)[0])\n",
    "print(edit_distance(X,Y,1,1)[1])"
   ]
  },
  {
   "cell_type": "markdown",
   "metadata": {},
   "source": [
    "Computing the edit distance and the backtrace if costs of substitution equal 1 and the costs of insertion, and deletion equal 2."
   ]
  },
  {
   "cell_type": "code",
   "execution_count": 5,
   "metadata": {
    "scrolled": true
   },
   "outputs": [
    {
     "name": "stdout",
     "output_type": "stream",
     "text": [
      "15.0\n",
      "['-', '-', '-', '-', '-', '-', '-', 'S', '-', 'S', '-', '-', '-', '-', '-', '-', '-', '-', '-', '-', '-', '-', 'S', '-', '-', 'S', '-', '-', '-', '-', '-', '-', '-', '-', 'S', '-', '-', '-', '-', '-', '-', 'D', 'D', 'D', 'D', 'D']\n"
     ]
    }
   ],
   "source": [
    "print(edit_distance(X,Y,2,1)[0])\n",
    "print(edit_distance(X,Y,2,1)[1])"
   ]
  },
  {
   "cell_type": "markdown",
   "metadata": {},
   "source": [
    "Computing the edit distance and the backtrace if costs of substitution, insertion, and deletion equal 1."
   ]
  },
  {
   "cell_type": "code",
   "execution_count": 6,
   "metadata": {},
   "outputs": [
    {
     "name": "stdout",
     "output_type": "stream",
     "text": [
      "37.0\n",
      "['-', '-', 'S', '-', '-', 'S', 'S', '-', 'S', 'S', 'S', 'S', 'S', 'S', 'S', 'S', '-', '-', 'S', '-', 'S', 'S', 'S', '-', 'S', '-', '-', '-', '-', 'D', 'D', 'D', 'D', 'D', 'D', 'D', 'D', 'D', 'D', 'D', 'D', 'D', 'D', 'D', 'D', 'D', 'D', 'D', 'D', 'D']\n"
     ]
    }
   ],
   "source": [
    "#Initializing the strings, which shall be analyzed.\n",
    "X = \"AASRPRSGVPAQSDSDPCQNLAATPIPSRPPSSQSCQKCRADARQGRWGP\"\n",
    "Y = \"SGAPGQRGEPGPQGHAGAPGPPGPPGSDG\"\n",
    "\n",
    "print(edit_distance(X,Y,1,1)[0])\n",
    "print(edit_distance(X,Y,1,1)[1])"
   ]
  },
  {
   "cell_type": "markdown",
   "metadata": {},
   "source": [
    "Computing the edit distance and the backtrace if costs of substitution equal 1 and the costs of insertion, and deletion equal 2."
   ]
  },
  {
   "cell_type": "code",
   "execution_count": 7,
   "metadata": {
    "scrolled": false
   },
   "outputs": [
    {
     "name": "stdout",
     "output_type": "stream",
     "text": [
      "58.0\n",
      "['-', '-', 'S', '-', '-', 'S', 'S', '-', 'S', 'S', 'S', 'S', 'S', 'S', 'S', 'S', '-', '-', 'S', '-', 'S', 'S', 'S', '-', 'S', '-', '-', '-', '-', 'D', 'D', 'D', 'D', 'D', 'D', 'D', 'D', 'D', 'D', 'D', 'D', 'D', 'D', 'D', 'D', 'D', 'D', 'D', 'D', 'D']\n"
     ]
    }
   ],
   "source": [
    "print(edit_distance(X,Y,2,1)[0])\n",
    "print(edit_distance(X,Y,2,1)[1])"
   ]
  },
  {
   "cell_type": "markdown",
   "metadata": {},
   "source": [
    "## Proof of Correctness\n",
    "\n",
    "While calculating the given problems along with the added problem correctly our algorithm has utilized all possible solutions (insert, delete and substitution). The subproblems and their solutions are finite and can only be of the following nature: (i-1, j), (i, j-1) and (i-1, j-1). The algorithm provides a correct solution to the above problems and it’s subproblems showing the full extent of it’s functionality as seen in the above table. We can therefore say that the algorithm can wield any of the possible solutions successfully. Now when a problem is larger (longer text strings) we can expect it to deliver the correct outcome because it is just a matter of having the recursive part of our algorithm run longer until it reaches the end. We can therefore assume that it will also prove to be correct for problems of larger size for, in a longer chain of subproblems (bigger strings of text) the subproblems will not differ in nature nor will the available solutions and the algorithm’s ability to apply them.\n",
    "\n",
    "We can equally say that if a person can take an initial step in a staircase there is nothing technically lacking in order to take the remaining steps."
   ]
  },
  {
   "cell_type": "markdown",
   "metadata": {},
   "source": [
    "# Huffman codes\n",
    "\n",
    "## Discussion of the probem"
   ]
  },
  {
   "cell_type": "markdown",
   "metadata": {},
   "source": [
    "## The proposed algorithm"
   ]
  },
  {
   "cell_type": "markdown",
   "metadata": {},
   "source": [
    "The ***'frequency_count'*** function takes a text input string and creates a dictionary (frequency_table) of characters found in the text as keys and their absolute frequency as values. This is implemented through a for-loop through the text input string that checks whether the iterative is already a key in the dictionary and if not, creates it, and if it is, augments its value. The dictionary is then transformed, by swapping keys and values, which transforms the dictionary into a list of tuples which are sorted by frequency. This list of ordered tuples is then returned as output.\n",
    "\n",
    "The cost of this operation is O(n) because the loop runs through n operations, and the lookup in the dictionary is constant cost, given that the length of the alphabet is fixed."
   ]
  },
  {
   "cell_type": "code",
   "execution_count": 8,
   "metadata": {},
   "outputs": [],
   "source": [
    "def frequency_count(text):\n",
    "    # initialise a dictionary - keys: characters, values: frequency\n",
    "    frequency_table = {}\n",
    "    # loop through the string\n",
    "    for i in text.lower():\n",
    "        # check whether character is already in dictionary\n",
    "        if i not in frequency_table:\n",
    "            # if not in dictionary, add it with frequency 1\n",
    "            frequency_table[str(i)] = 1\n",
    "        else:\n",
    "            # if it is in dictionary, augment its frequency by 1\n",
    "            frequency_table[str(i)] = frequency_table[str(i)] + 1\n",
    "    # swap keys and values, transform into list, and sort the list\n",
    "    frequency_table = sorted([(v, k) for k, v in frequency_table.items()])\n",
    "    return frequency_table"
   ]
  },
  {
   "cell_type": "markdown",
   "metadata": {},
   "source": [
    "The ***'build_tree'*** function first calls the ***'frequency_count'*** function on the text input string it is given, and then builds a Huffman tree from it. The function iterates through the list from lowest to highest frequency, at each step creating a new node with the two character tuples with lowest frequency. The node is created as a nested list with two entries, the sum of the two children's frequencies, and a nested list with the two tuples. The node is then inserted back into the list that its entries were extracted from, with the position chosen by a for loop that compares the nodes value with each entry from the originator list until the node value is larger than the iterator's value. This loop runs as long as the top level list is longer than 1. When it reaches length 1, the tree is complete and returned as a nested list.\n",
    "\n",
    "The cost of this operation is constant, because it depends only on the length of the dictionary given as input, which \n",
    "depends only of the length of the alphabet and thus is fixed."
   ]
  },
  {
   "cell_type": "code",
   "execution_count": 9,
   "metadata": {},
   "outputs": [],
   "source": [
    "def build_tree(text):\n",
    "    # call frequency_count function and assign to tree\n",
    "    tree = frequency_count(text)\n",
    "    # loop over the list, until its length is 1\n",
    "    while len(tree) > 1:\n",
    "        # pop out the two lowest value nodes and merge into new node\n",
    "        node = [tree[0][0] + tree[1][0], [tree.pop(0), tree.pop(0)]]\n",
    "        # check where to place the new node\n",
    "        for i in range(len(tree)):\n",
    "            # if the node's value > the current iterate, continue\n",
    "            if node[0] > tree[i][0]:\n",
    "                pass\n",
    "            # if not, assign the iterate's value to an index\n",
    "            else:\n",
    "                index = i\n",
    "                break\n",
    "        # insert the node at the index we found in the for loop\n",
    "        tree.insert(index, node)\n",
    "    return tree"
   ]
  },
  {
   "cell_type": "markdown",
   "metadata": {},
   "source": [
    "The ***'climb_tree'*** function first calls the ***'build_tree'*** function on the text input it is given, gets a Huffman tree in the form of a nested list, and then assigns codes to each node of the tree. The function climbs the tree from its root, taking left and right steps. While climbing, the function builds a dictionary with characters from the tree-nodes making up the keys, and code assignments making up the values. The dictionary is updated at every step that encounters a leaf of the tree, which is detected with an if condition that checks whether the node contains a string. If a node does not contain a string, this means that another list is nested inside the node, and that we are on a branch rather than a leaf of the tree. In the case of a branch, the function continues climbing with right and left steps. Right steps at a 1 to the code string, left steps add a 0 to the code string.\n",
    "\n",
    "The cost of this operation is constant, because it depends only on the length of the nested list it receives as an input. The length and depth of the nested list in turn depends only on the length of the alphabet, which, again, is fixed."
   ]
  },
  {
   "cell_type": "code",
   "execution_count": 10,
   "metadata": {},
   "outputs": [],
   "source": [
    "def climb_tree(text):\n",
    "    # call the build_tree function on the text to get a Huffman tree\n",
    "    tree = build_tree(text)[0][1]\n",
    "    # initialise a code variable to store codes we will assign\n",
    "    code = str()\n",
    "    # initialise a dictionary that will hold our codes\n",
    "    dictionary = {}\n",
    "\n",
    "    # define a function that accesses the first element of a node\n",
    "    def right_step(branch, code):\n",
    "        # go down to first element\n",
    "        branch = branch[0][1]\n",
    "        # add a 1 to the code string\n",
    "        code = code + str(1)\n",
    "        # check if we have reached a string rather than a list\n",
    "        if type(branch) == str:\n",
    "            # if yes, access the dictionary\n",
    "            nonlocal dictionary\n",
    "            # assign the current code to the string found\n",
    "            dictionary[branch] = code\n",
    "        else:\n",
    "            # if not, take both a right and left step\n",
    "            right_step(branch, code)\n",
    "            left_step(branch, code)\n",
    "            \n",
    "    # define a fucntion that accesses the second element of a node\n",
    "    def left_step(branch, code):\n",
    "        # # go down to second element\n",
    "        branch = branch[1][1]\n",
    "        # add a 0 to the code string\n",
    "        code = code + str(0)\n",
    "        # check if we have reached a string rather than a list\n",
    "        if type(branch) == str:\n",
    "            # if yes, access the dictionary\n",
    "            nonlocal dictionary\n",
    "            # assign the current code to the string found\n",
    "            dictionary[branch] = code\n",
    "        else:\n",
    "            # if not, take both a right and left step\n",
    "            right_step(branch, code)\n",
    "            left_step(branch, code)\n",
    "            \n",
    "    # these are the first two steps, which go both left and right\n",
    "    left_step(tree, code)\n",
    "    right_step(tree, code)\n",
    "    # return the dictionary with key: string, value: code.\n",
    "    return dictionary"
   ]
  },
  {
   "cell_type": "markdown",
   "metadata": {},
   "source": [
    "The ***'encode'*** function calls the ***'climb_tree'*** function to get a dictionary of characters in the text with their code assignments. It iterates through the input text string and creates an output text string where every character is replaced with their code assignment. It then returns the encoded output string.\n",
    "\n",
    "The cost of this operation is O(n), because each character needs to be replaced."
   ]
  },
  {
   "cell_type": "code",
   "execution_count": 11,
   "metadata": {},
   "outputs": [],
   "source": [
    "def encode(text):\n",
    "    # call the climb_tree function to get string-code assignments\n",
    "    dictionary = climb_tree(text)\n",
    "    # initialise output string\n",
    "    encoded_text = str()\n",
    "    # iterate through text\n",
    "    for character in text.lower():\n",
    "        # augment output string with code assignment for each string\n",
    "        encoded_text += dictionary[character]\n",
    "    return encoded_text"
   ]
  },
  {
   "cell_type": "markdown",
   "metadata": {},
   "source": [
    "The ***'decode'*** function requires the same dictionary used to encode a text string, and the encoded text as input. First, it swaps the keys and values of the dictionary such that the codes are keys, and the characters are values. It then iterates through the encoded text and checks whether it can find an iterate in the dictionary. If not, it adds the next iterate and checks whether it can find this longer code in the dictionary. Once it finds a code sequence it can find in the dictionary it adds the corresponding dictionary entry to the output string. Once the function has iterated  through the entire encoded text it has recovered the original text string and outputs it.\n",
    "\n",
    "The cost of this  operation is O(n), because each character is recovered in turn. The length of the encoded string is proportional to the alphabet used. More complex alphabets will require longer code strings. Regardless, this increases the cost of the algorithm only by a constant."
   ]
  },
  {
   "cell_type": "code",
   "execution_count": 12,
   "metadata": {},
   "outputs": [],
   "source": [
    "def decode(dictionary, code):\n",
    "    # get dictionary with string-code assignments and swap keys and values\n",
    "    dictionary = dict([(v, k) for k, v in dictionary.items()])\n",
    "    # initialise output string\n",
    "    text = str()\n",
    "    # initialise pointer for the encoded text\n",
    "    index = 0\n",
    "    # iterate through encoded text,\n",
    "    for i in range(len(code)):\n",
    "        # consider expanding encoded text sequence until a match in dict\n",
    "        if code[index:i+1] in dictionary:\n",
    "            # augment output text by the matched string\n",
    "            text = text + dictionary[code[index:i+1]]\n",
    "            index = i + 1\n",
    "    return(text)"
   ]
  },
  {
   "cell_type": "code",
   "execution_count": 13,
   "metadata": {},
   "outputs": [],
   "source": [
    "# Text examples\n",
    "\n",
    "T1 = 'O all you host of heaven! O earth! What else? And shall I couple '\\\n",
    "'hell? Oh, fie! Hold, hold, my heart, And you, my sinews, grow not instant '\\\n",
    "'old, But bear me stiffly up. Remember thee! Ay, thou poor ghost, whiles '\\\n",
    "'memory holds a seat In this distracted globe. Remember thee! Yea, from '\\\n",
    "'the table of my memory I’ll wipe away all trivial fond records, All saws '\\\n",
    "'of books, all forms, all pressures past That youth and observation copied '\\\n",
    "'there, And thy commandment all alone shall live Within the book and volume '\\\n",
    "'of my brain, Unmixed with baser matter. Yes, by heaven! O most pernicious '\\\n",
    "'woman! O villain, villain, smiling, damned villain! My tables! Meet it is '\\\n",
    "'I set it down That one may smile, and smile, and be a villain. At least '\\\n",
    "'I’m sure it may be so in Denmark. So, uncle, there you are. Now to my word.'\n",
    "\n",
    "T2 = 'Habe nun, ach! Philosophie, Juristerei und Medizin, Und leider auch '\\\n",
    "'Theologie Durchaus studiert, mit heissem Bemühn. Da steh ich nun, ich armer '\\\n",
    "'Tor! Und bin so klug als wie zuvor; Heisse Magister, heisse Doktor gar Und '\\\n",
    "'ziehe schon an die zehen Jahr Herauf, herab und quer und krumm Meine '\\\n",
    "'Schüler an der Nase herum Und sehe, dass wir nichts wissen können! Das '\\\n",
    "'will mir schier das Herz verbrennen. Zwar bin ich gescheiter als all die '\\\n",
    "'Laffen, Doktoren, Magister, Schreiber und Pfaffen; Mich plagen keine '\\\n",
    "'Skrupel noch Zweifel, Fürchte mich weder vor Hölle noch Teufel Dafür '\\\n",
    "'ist mir auch alle Freud entrissen, Bilde mir nicht ein, was Rechts zu '\\\n",
    "'wissen, Bilde mir nicht ein, ich könnte was lehren, Die Menschen zu '\\\n",
    "'bessern und zu bekehren. Auch hab ich weder Gut noch Geld, Noch Ehr und '\\\n",
    "'Herrlichkeit der Welt; Es möchte kein Hund so länger leben! Drum hab ich '\\\n",
    "'mich der Magie ergeben, Ob mir durch Geistes Kraft und Mund Nicht manch '\\\n",
    "'Geheimnis würde kund; Dass ich nicht mehr mit saurem Schweiss Zu sagen '\\\n",
    "'brauche, was ich nicht weiss; Dass ich erkenne, was die Welt Im Innersten '\\\n",
    "'zusammenhält, Schau alle Wirkenskraft und Samen, Und tu nicht mehr in '\\\n",
    "'Worten kramen.'"
   ]
  },
  {
   "cell_type": "code",
   "execution_count": 14,
   "metadata": {},
   "outputs": [
    {
     "data": {
      "text/plain": [
       "{'l': '0111',\n",
       " 'o': '0110',\n",
       " '’': '01011111',\n",
       " 'x': '010111101',\n",
       " '?': '010111100',\n",
       " 'k': '01011101',\n",
       " 'g': '01011100',\n",
       " 'w': '010110',\n",
       " '.': '0101011',\n",
       " 'c': '0101010',\n",
       " 'u': '010100',\n",
       " 'a': '0100',\n",
       " 'h': '00111',\n",
       " 'r': '00110',\n",
       " 'b': '001011',\n",
       " 'p': '0010101',\n",
       " '!': '0010100',\n",
       " 'm': '00100',\n",
       " 'e': '0001',\n",
       " 'n': '00001',\n",
       " 's': '00000',\n",
       " ' ': '11',\n",
       " 'f': '101111',\n",
       " 'v': '101110',\n",
       " 'y': '10110',\n",
       " 'i': '1010',\n",
       " ',': '10011',\n",
       " 'd': '10010',\n",
       " 't': '1000'}"
      ]
     },
     "execution_count": 14,
     "metadata": {},
     "output_type": "execute_result"
    }
   ],
   "source": [
    "climb_tree(T1)"
   ]
  },
  {
   "cell_type": "code",
   "execution_count": 15,
   "metadata": {},
   "outputs": [
    {
     "data": {
      "text/plain": [
       "{'h': '0111',\n",
       " 'm': '01101',\n",
       " 't': '01100',\n",
       " 'i': '0101',\n",
       " 'p': '01001111',\n",
       " 'ü': '01001110',\n",
       " 'ä': '010011011',\n",
       " 'q': '0100110101',\n",
       " 'j': '0100110100',\n",
       " ';': '01001100',\n",
       " 'o': '010010',\n",
       " 'w': '010001',\n",
       " ',': '010000',\n",
       " 'n': '0011',\n",
       " 'c': '00101',\n",
       " 'd': '00100',\n",
       " ' ': '000',\n",
       " 'u': '1111',\n",
       " 'a': '1110',\n",
       " 'z': '110111',\n",
       " 'f': '110110',\n",
       " 'v': '11010111',\n",
       " '!': '11010110',\n",
       " '.': '11010101',\n",
       " 'ö': '11010100',\n",
       " 'g': '110100',\n",
       " 's': '1100',\n",
       " 'e': '101',\n",
       " 'l': '10011',\n",
       " 'b': '100101',\n",
       " 'k': '100100',\n",
       " 'r': '1000'}"
      ]
     },
     "execution_count": 15,
     "metadata": {},
     "output_type": "execute_result"
    }
   ],
   "source": [
    "climb_tree(T2)"
   ]
  },
  {
   "cell_type": "markdown",
   "metadata": {},
   "source": [
    "# References\n",
    "\n",
    " Huffman, D. (1952). \"A Method for the Construction of Minimum-Redundancy Codes\" (PDF). Proceedings of the IRE. 40 (9): 1098–1101. doi:10.1109/JRPROC.1952.273898. "
   ]
  }
 ],
 "metadata": {
  "kernelspec": {
   "display_name": "Python 3",
   "language": "python",
   "name": "python3"
  },
  "language_info": {
   "codemirror_mode": {
    "name": "ipython",
    "version": 3
   },
   "file_extension": ".py",
   "mimetype": "text/x-python",
   "name": "python",
   "nbconvert_exporter": "python",
   "pygments_lexer": "ipython3",
   "version": "3.6.5"
  },
  "varInspector": {
   "cols": {
    "lenName": 16,
    "lenType": 16,
    "lenVar": 40
   },
   "kernels_config": {
    "python": {
     "delete_cmd_postfix": "",
     "delete_cmd_prefix": "del ",
     "library": "var_list.py",
     "varRefreshCmd": "print(var_dic_list())"
    },
    "r": {
     "delete_cmd_postfix": ") ",
     "delete_cmd_prefix": "rm(",
     "library": "var_list.r",
     "varRefreshCmd": "cat(var_dic_list()) "
    }
   },
   "types_to_exclude": [
    "module",
    "function",
    "builtin_function_or_method",
    "instance",
    "_Feature"
   ],
   "window_display": false
  }
 },
 "nbformat": 4,
 "nbformat_minor": 2
}
